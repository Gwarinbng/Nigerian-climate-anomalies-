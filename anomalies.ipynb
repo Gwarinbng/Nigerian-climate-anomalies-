import json

def script_to_json(file_path, name="anomalies_report", file_type="code/python"):
    """
    Convert a Python script into a JSON-ready format for GitHub API upload.
    """
    with open(file_path, "r", encoding="utf-8") as f:
        content = f.read()

    json_ready = {
        "name": name,
        "type": file_type,
        "content": content
    }

    return json.dumps(json_ready, indent=2)
    

# Example usage
json_output = script_to_json("anomalies_report.py")
print(json_output)

